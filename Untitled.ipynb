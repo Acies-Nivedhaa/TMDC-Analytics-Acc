{
 "cells": [
  {
   "cell_type": "code",
   "execution_count": 2,
   "id": "3a2bcbae-6b36-4451-a9ac-9d3de95d86bd",
   "metadata": {},
   "outputs": [
    {
     "name": "stderr",
     "output_type": "stream",
     "text": [
      "C:\\Users\\Nivedhaa\\AppData\\Local\\Temp\\ipykernel_29312\\1431183840.py:23: UserWarning: pandas only supports SQLAlchemy connectable (engine/connection) or database string URI or sqlite3 DBAPI2 connection. Other DBAPI2 objects are not tested. Please consider using SQLAlchemy.\n",
      "  device_df = pd.read_sql(query, conn)\n"
     ]
    },
    {
     "name": "stdout",
     "output_type": "stream",
     "text": [
      "                                            device_id  \\\n",
      "0   4a83ee8addadfa2e9273b0d8a44957054f0041e573075f...   \n",
      "1                                 000devicename614505   \n",
      "2   783063ede678cef26e7f3871d844b65d4d712cb9e45f2f...   \n",
      "3   6f84cbe982d133998ca9ead2c7ec16e96fc9a3128a1137...   \n",
      "4   b0c426f2b168efe41e7b2b039c73a373e63f9dabbd7b26...   \n",
      "5   12f6382df9768d2e44855a8bf33ba87e6438b54cfb96fc...   \n",
      "6   d2eecdb56c1989cfb645dbd0cdfed9cfd63b1ea3d4b2c2...   \n",
      "7   6643716d963d60535439971a7f68fe980ca10d494838e9...   \n",
      "8   34e24ac401b1e2a36bfebdf9a603c4359add3a7820143a...   \n",
      "9   fb8141ba77ca0c22506b031d0c3bf7b042d7382e6cb1f6...   \n",
      "10  b0fb561301bcc262b98a957d555de63f63f203f9407ed9...   \n",
      "11  77b2c437bd59c51171106c66857d56a30d05ec00dd51bb...   \n",
      "12  9b9229191ebd9e36331cff51ab5a003dada3de99e55f38...   \n",
      "13  53cb8cc83c73be04eb011e1d2c2313d42e56d4e31b9288...   \n",
      "14  caf3739e0b6f0fd53fe6f9d0a5a64090c4abee44afe0d7...   \n",
      "15  2bb09f234feb356f5fe129d7ac513e980d103ff75da884...   \n",
      "16  27736d0a182736b1a83524dd8eb81981f093278b82a988...   \n",
      "17  42f07fec455872b8fbc56551106bdfacd0162b4d6ab243...   \n",
      "18  e2144d7981e30c060c273caf90656ee8761ebd33d4d249...   \n",
      "19  fc3499c9a5c1eceb29acc3efa2a001dfe8a8e39e4c808a...   \n",
      "\n",
      "    disk_failure_percentage disk_failure_category                  timestamp  \n",
      "0                         7                   Low 2025-08-29 14:26:56.666621  \n",
      "1                        91                  High 2025-08-29 14:26:56.666621  \n",
      "2                        66                  High 2025-08-29 14:26:56.666621  \n",
      "3                         8                   Low 2025-08-29 14:26:56.666621  \n",
      "4                        90                  High 2025-08-29 14:26:56.666621  \n",
      "5                         2                   Low 2025-08-29 14:26:56.666621  \n",
      "6                         8                   Low 2025-08-29 14:26:56.666621  \n",
      "7                        20                   Low 2025-08-29 14:26:56.666621  \n",
      "8                        33                Medium 2025-08-29 14:26:56.666621  \n",
      "9                        41                Medium 2025-08-29 14:26:56.666621  \n",
      "10                       67                  High 2025-08-29 14:26:56.666621  \n",
      "11                       22                   Low 2025-08-29 14:26:56.666621  \n",
      "12                       20                   Low 2025-08-29 14:26:56.666621  \n",
      "13                       99                  High 2025-08-29 14:26:56.666621  \n",
      "14                       59                Medium 2025-08-29 14:26:56.666621  \n",
      "15                       66                  High 2025-08-29 14:26:56.666621  \n",
      "16                       71                  High 2025-08-29 14:26:56.666621  \n",
      "17                       79                  High 2025-08-29 14:26:56.666621  \n",
      "18                       48                Medium 2025-08-29 14:26:56.666621  \n",
      "19                       68                  High 2025-08-29 14:26:56.666621  \n",
      "Index(['device_id', 'disk_failure_percentage', 'disk_failure_category',\n",
      "       'timestamp'],\n",
      "      dtype='object')\n"
     ]
    }
   ],
   "source": [
    "from trino.dbapi import connect\n",
    "from trino.auth import BasicAuthentication\n",
    "import pandas as pd\n",
    "import numpy as np\n",
    "from datetime import datetime\n",
    " \n",
    "# Connect to Trino\n",
    "conn = connect(\n",
    "    host=\"tcp.known-racer.mydataos.com\",\n",
    "    port=7432,\n",
    "    auth=BasicAuthentication(\"kishanmahajan\", \"TGVucy45YTE5M2FmZC03MjBkLTQ4ZWMtOWNkOC04M2ZjMDQ0OTllZDc=\"),\n",
    "    http_scheme=\"https\",\n",
    "    http_headers={\"cluster-name\": \"minervac\"}\n",
    ")\n",
    " \n",
    "# Query devices\n",
    "query = \"\"\" \n",
    "SELECT\n",
    "    d_id as device_id\n",
    "FROM\n",
    "    \"icebase\".\"telemetry\".device\n",
    "\"\"\"\n",
    "device_df = pd.read_sql(query, conn)\n",
    " \n",
    "# Generate random failure percentages between 0–100\n",
    "device_df[\"disk_failure_percentage\"] = np.random.randint(0, 101, size=len(device_df))\n",
    " \n",
    "# Categorize based on percentage\n",
    "def categorize_failure(pct):\n",
    "    if pct >= 60:\n",
    "        return \"High\"\n",
    "    elif pct >= 30:\n",
    "        return \"Medium\"\n",
    "    else:\n",
    "        return \"Low\"\n",
    " \n",
    "device_df[\"disk_failure_category\"] = device_df[\"disk_failure_percentage\"].apply(categorize_failure)\n",
    " \n",
    "# Add timestamp column (same current timestamp for all rows)\n",
    "device_df[\"timestamp\"] = datetime.now()\n",
    " \n",
    "print(device_df.head(20))\n",
    "print(device_df.columns)\n",
    "device_df.to_csv(\"disk_failure_prediction.csv\",index=False)"
   ]
  },
  {
   "cell_type": "code",
   "execution_count": null,
   "id": "7681bd56-084d-4395-b38e-9bbb21aa37b5",
   "metadata": {},
   "outputs": [],
   "source": []
  }
 ],
 "metadata": {
  "kernelspec": {
   "display_name": "Python [conda env:base] *",
   "language": "python",
   "name": "conda-base-py"
  },
  "language_info": {
   "codemirror_mode": {
    "name": "ipython",
    "version": 3
   },
   "file_extension": ".py",
   "mimetype": "text/x-python",
   "name": "python",
   "nbconvert_exporter": "python",
   "pygments_lexer": "ipython3",
   "version": "3.13.5"
  }
 },
 "nbformat": 4,
 "nbformat_minor": 5
}
